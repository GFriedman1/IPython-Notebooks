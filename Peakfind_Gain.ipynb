{
 "cells": [
  {
   "cell_type": "code",
   "execution_count": 1,
   "metadata": {
    "collapsed": true
   },
   "outputs": [],
   "source": [
    "import numpy as np\n",
    "from scipy.optimize import leastsq\n",
    "import matplotlib.pyplot as plt\n",
    "%matplotlib inline"
   ]
  },
  {
   "cell_type": "code",
   "execution_count": 2,
   "metadata": {
    "collapsed": true
   },
   "outputs": [],
   "source": [
    "import Tkinter, tkFileDialog\n",
    "root = Tkinter.Tk()\n",
    "file = tkFileDialog.askopenfile(parent=root,mode='rb',title='Choose a file')\n",
    "fn = file.name\n",
    "file.close()\n",
    "root.destroy()"
   ]
  },
  {
   "cell_type": "code",
   "execution_count": 3,
   "metadata": {
    "collapsed": false
   },
   "outputs": [],
   "source": [
    "results=np.genfromtxt(fn,delimiter=',')"
   ]
  },
  {
   "cell_type": "code",
   "execution_count": 97,
   "metadata": {
    "collapsed": false,
    "scrolled": true
   },
   "outputs": [
    {
     "name": "stdout",
     "output_type": "stream",
     "text": [
      "0.0163576616188\n",
      "0.00126239045467\n"
     ]
    }
   ],
   "source": [
    "ch1=np.array(results[:,0])\n",
    "ch2=np.array(results[:,1])\n",
    "ch3=np.array(results[:,2])\n",
    "ch4=np.array(results[:,3])\n",
    "baseline_ch1=np.mean(ch1[np.where(ch1<.2)])\n",
    "baseline_ch2=np.mean(ch2[np.where(ch1<.2)])\n",
    "print baseline_ch1\n",
    "print baseline_ch2\n",
    "ch1_adj=ch1-baseline_ch1\n",
    "ch2_adj=ch2-baseline_ch2\n",
    "signal_vals_ch1=np.where(ch1_adj>.5)[0]\n",
    "signal_vals_ch2=np.where(ch2_adj>.5)[0]\n",
    "ch1_sign=ch1_adj[signal_vals_ch1]\n",
    "ch2_sign=ch2_adj[signal_vals_ch2]"
   ]
  },
  {
   "cell_type": "code",
   "execution_count": 71,
   "metadata": {
    "collapsed": true
   },
   "outputs": [],
   "source": [
    "from scipy.signal import find_peaks_cwt"
   ]
  },
  {
   "cell_type": "code",
   "execution_count": 99,
   "metadata": {
    "collapsed": false
   },
   "outputs": [],
   "source": [
    "indexes1 = find_peaks_cwt(ch1_sign, np.arange(1,55))\n",
    "indexes2 = find_peaks_cwt(ch2_sign, np.arange(1,55))\n",
    "peaks1=ch1_sign[indexes1]\n",
    "peaks_time1=signal_vals_ch1[indexes1]\n",
    "peaks2=ch2_sign[indexes2]\n",
    "peaks_time2=signal_vals_ch2[indexes2]"
   ]
  },
  {
   "cell_type": "code",
   "execution_count": 102,
   "metadata": {
    "collapsed": false
   },
   "outputs": [
    {
     "name": "stdout",
     "output_type": "stream",
     "text": [
      "1.14085203397\n",
      "[ 1.          1.29872734  1.16807079  1.29723048  1.46042707  1.45698158\n",
      "  1.4666878   1.33231841]\n",
      "[ 24488 149431 274354 399280 524204 649123 774049 898987]\n",
      "[ 24363 149307 274229 399154 524078 648997 773924 898862]\n",
      "[ 1.          1.06752854  1.03960244  1.06722081  1.09930947  1.09866051\n",
      "  1.10048574  1.07436539]\n"
     ]
    },
    {
     "data": {
      "text/plain": [
       "[<matplotlib.lines.Line2D at 0x2efbcf98>]"
      ]
     },
     "execution_count": 102,
     "metadata": {},
     "output_type": "execute_result"
    },
    {
     "data": {
      "image/png": "[encoded data removed]",
      "text/plain": [
       "<matplotlib.figure.Figure at 0x2b318cc0>"
      ]
     },
     "metadata": {},
     "output_type": "display_data"
    }
   ],
   "source": [
    "sig2ref=peaks1[0]/peaks2[0]\n",
    "print sig2ref\n",
    "Gain4=(1/sig2ref)*peaks1/peaks2\n",
    "Gain=Gain4**(.25)\n",
    "print Gain4\n",
    "print peaks_time1\n",
    "print peaks_time2\n",
    "print Gain\n",
    "plt.plot(peaks_time1,Gain)"
   ]
  },
  {
   "cell_type": "raw",
   "metadata": {},
   "source": []
  }
 ],
 "metadata": {
  "kernelspec": {
   "display_name": "Python 2",
   "language": "python",
   "name": "python2"
  },
  "language_info": {
   "codemirror_mode": {
    "name": "ipython",
    "version": 2
   },
   "file_extension": ".py",
   "mimetype": "text/x-python",
   "name": "python",
   "nbconvert_exporter": "python",
   "pygments_lexer": "ipython2",
   "version": "2.7.10"
  }
 },
 "nbformat": 4,
 "nbformat_minor": 0
}
