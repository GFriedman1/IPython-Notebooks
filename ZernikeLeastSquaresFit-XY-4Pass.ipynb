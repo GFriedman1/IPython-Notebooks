{
 "cells": [
  {
   "cell_type": "code",
   "execution_count": 2,
   "metadata": {
    "collapsed": true
   },
   "outputs": [],
   "source": [
    "import numpy as np\n",
    "from scipy.optimize import leastsq\n",
    "import matplotlib.pyplot as plt"
   ]
  },
  {
   "cell_type": "code",
   "execution_count": 3,
   "metadata": {
    "collapsed": true
   },
   "outputs": [],
   "source": [
    "%matplotlib inline"
   ]
  },
  {
   "cell_type": "code",
   "execution_count": 4,
   "metadata": {
    "collapsed": false
   },
   "outputs": [],
   "source": [
    "def polar(x,y):\n",
    "    r=np.sqrt(pow(x,2)+pow(y,2))\n",
    "    theta=np.arctan2(x,y)\n",
    "    return [r,theta]"
   ]
  },
  {
   "cell_type": "code",
   "execution_count": 5,
   "metadata": {
    "collapsed": false
   },
   "outputs": [],
   "source": [
    "def zernike(c0,x,y):\n",
    "    z0, z1, z2, z3, z4, z5, z6, z7, z8, z9, z10, z11, z12, z13, z14, z15, z16, z17, z18, z19, z20, z21, z22, z23, z24 = c0\n",
    "    piston = z0\n",
    "    x_tilt = z1*x\n",
    "    y_tilt = z2*y\n",
    "    Defocus = z3*(2*(x**2+y**2)-1)\n",
    "    x_ast = z4*(x**2-y**2)\n",
    "    y_ast = z5*(2*x*y)\n",
    "    x_coma = z6*(-2*x+3*x*(x**2+y**2))\n",
    "    y_coma = z7*(-2*y+3*y*(x**2+y**2))\n",
    "    x_trefoil=z8*(x**3-3*x*y**2)\n",
    "    y_trefoil=z9*(-y**3+3*y*x**2)\n",
    "    z_Spherical=z10*(1-6*(x**2+y**2)+6*(x**2+y**2)**2)\n",
    "    z_11 = z11*(-3*x**2+3*y**2+4*x**2*(x**2+y**2)-4*y**2*(x**2+y**2))\n",
    "    z_12 = z12*(-6*x*y+8*x*y*(x**2+y**2))\n",
    "    z_13 = z13*(3*x-12*x*(x**2+y**2)+10*x*(x**2+y**2)**2)\n",
    "    z_14 = z14*(3*y-12*y*(x**2+y**2)+10*y*(x**2+y**2)**2)\n",
    "    z_15 = z15*(-1+12*(x**2+y**2)-30*(x**2+y**2)**2+20*(x**2+y**2)**3)\n",
    "    z_16 = z16*(x**4-6*x**2*y**2+y**4)\n",
    "    z_17 = z17*(4*x**3*y-4*x*y**3)\n",
    "    z_18 = z18*(-4*x**3+12*x*y**2+5*x**3*(x**2+y**2)-15*x*y**2*(x**2+y**2))\n",
    "    z_19 = z19*(4*y**3+12*x*2*y-5*y**3*(x**2+y**2)+15*x**2*y*(x**2+y**2))\n",
    "    z_20 = z20*(6*x**2-6*y**2-20*y**2*(x**2+y**2)+15*x**2*(x**2+y**2)**2-15*y**2*(x**2+y**2)**2)\n",
    "    z_21 = z21*(12*x*y-40*x*y*(x**2+y**2)+30*x*y*(x**2+y**2)**2)\n",
    "    z_22 = z22*(-4*x+30*x*(x**2+y**2)-60*x*(x**2+y**2)**2+35*x*(x**2+y**2)**3)\n",
    "    z_23 = z23*(-4*7+30*y*(x**2+y**2)-60*y*(x**2+y**2)**2+35*y*(x**2+y**2)**3)\n",
    "    z_24 = z24*(1-20*(x**2+y**2)+90*(x**2+y**2)**2-140*(x**2+y**2)**3+70*(x**2+y**2)**4)\n",
    "    fun = piston + x_tilt + y_tilt + Defocus + x_ast + y_ast + x_coma + y_coma + x_trefoil + y_trefoil + z_Spherical + z_11 + z_12 + z_13 + z_14 + z_15 + z_16 + z_17 + z_18 + z_19 + z_20 + z_21 + z_22 + z_23 + z_24\n",
    "    \n",
    "    return fun"
   ]
  },
  {
   "cell_type": "code",
   "execution_count": 6,
   "metadata": {
    "collapsed": false
   },
   "outputs": [],
   "source": [
    "def residuals(p, y, x, z):\n",
    "    z0, z1, z2, z3, z4, z5, z6, z7, z8, z9, z10, z11, z12, z13, z14, z15, z16, z17, z18, z19, z20, z21, z22, z23, z24 = p\n",
    "    #print p\n",
    "    err = 0\n",
    "    err += (y - zernike(p, x, z))\n",
    "    #for i in range(len(r)):\n",
    "        #err += (y[i] - zernike(p, r[i],theta[i]))**2\n",
    "    return err"
   ]
  },
  {
   "cell_type": "code",
   "execution_count": 7,
   "metadata": {
    "collapsed": true
   },
   "outputs": [],
   "source": [
    "import Tkinter, tkFileDialog\n",
    "root = Tkinter.Tk()\n",
    "file = tkFileDialog.askopenfile(parent=root,mode='rb',title='Choose a file')\n",
    "fn = file.name\n",
    "file.close()\n",
    "root.destroy()"
   ]
  },
  {
   "cell_type": "code",
   "execution_count": 8,
   "metadata": {
    "collapsed": false
   },
   "outputs": [],
   "source": [
    "xyz_fea=np.genfromtxt(fn,delimiter=',')\n",
    "z_fea=np.array(xyz_fea[:,2])\n",
    "x_fea=np.column_stack((xyz_fea[:,0], xyz_fea[:,1]))\n",
    "x0=x_fea[:,0]\n",
    "y0=x_fea[:,1]\n",
    "#x0_mm=x0/1e9\n",
    "#y0_mm=y0/1e9\n",
    "#x0_norm=x0/x0.max()\n",
    "#y0_norm=y0/y0.max()\n",
    "#[r_fea, theta_fea] = polar(x0,y0)\n",
    "#rho_fea=r_fea/r_fea.max()"
   ]
  },
  {
   "cell_type": "code",
   "execution_count": 40,
   "metadata": {
    "collapsed": false
   },
   "outputs": [],
   "source": [
    "delta_p=35\n",
    "delta_r=27\n",
    "\n",
    "\n",
    "#Pass 1\n",
    "x0_s=x0-delta_p #Shift 1/2 Pinhole Distance Right\n",
    "y0_s=y0-delta_p #Shift 1/2 Pinhole Distance Up\n",
    "x0_f=x0_s*-1 \n",
    "y0_f=y0_s\n",
    "x0_f_proj=x0_f/1.702\n",
    "xB1=x0_f_proj[np.where((np.absolute(x0_f_proj)<125)&(np.absolute(y0_f)<125))]\n",
    "yB1=y0_f[np.where((np.absolute(x0_f_proj)<125)&(np.absolute(y0_f)<125))]\n",
    "zB1=z_fea[np.where((np.absolute(x0_f_proj)<125)&(np.absolute(y0_f)<125))]\n",
    "xB1_norm=xB1/125\n",
    "yB1_norm=yB1/125\n",
    "\n",
    "#Pass 2\n",
    "x0_s=x0-(delta_r-delta_p)\n",
    "y0_s=y0-delta_p\n",
    "x0_f=x0_s*-1\n",
    "y0_f=y0_s\n",
    "x0_f_proj=x0_f/1.702\n",
    "xB2=x0_f_proj[np.where((np.absolute(x0_f_proj)<125)&(np.absolute(y0_f)<125))]\n",
    "yB2=y0_f[np.where((np.absolute(x0_f_proj)<125)&(np.absolute(y0_f)<125))]\n",
    "zB2=z_fea[np.where((np.absolute(x0_f_proj)<125)&(np.absolute(y0_f)<125))]\n",
    "xB2_norm=xB2/125\n",
    "yB2_norm=yB2/125\n",
    "\n",
    "#Pass 3\n",
    "x0_s=x0-(delta_r+delta_p)\n",
    "y0_s=y0+delta_p\n",
    "x0_f=x0_s\n",
    "y0_f=y0_s\n",
    "x0_f_proj=x0_f/1.702\n",
    "xB3=x0_f_proj[np.where((np.absolute(x0_f_proj)<125)&(np.absolute(y0_f)<125))]\n",
    "yB3=y0_f[np.where((np.absolute(x0_f_proj)<125)&(np.absolute(y0_f)<125))]\n",
    "zB3=z_fea[np.where((np.absolute(x0_f_proj)<125)&(np.absolute(y0_f)<125))]\n",
    "xB3_norm=xB3/125\n",
    "yB3_norm=yB3/125\n",
    "\n",
    "#Pass 4\n",
    "x0_s=x0+delta_p\n",
    "y0_s=y0+delta_p\n",
    "x0_f=x0_s*-1\n",
    "y0_f=y0_s\n",
    "x0_f_proj=x0_f/1.702\n",
    "xB4=x0_f_proj[np.where((np.absolute(x0_f_proj)<125)&(np.absolute(y0_f)<125))]\n",
    "yB4=y0_f[np.where((np.absolute(x0_f_proj)<125)&(np.absolute(y0_f)<125))]\n",
    "zB4=z_fea[np.where((np.absolute(x0_f_proj)<125)&(np.absolute(y0_f)<125))]\n",
    "xB4_norm=xB4/125\n",
    "yB4_norm=yB4/125"
   ]
  },
  {
   "cell_type": "code",
   "execution_count": 17,
   "metadata": {
    "collapsed": false
   },
   "outputs": [
    {
     "name": "stdout",
     "output_type": "stream",
     "text": [
      "8241\n"
     ]
    },
    {
     "data": {
      "text/plain": [
       "8241"
      ]
     },
     "execution_count": 17,
     "metadata": {},
     "output_type": "execute_result"
    }
   ],
   "source": [
    "print np.size(zB2)\n",
    "np.size(yB2_norm)"
   ]
  },
  {
   "cell_type": "code",
   "execution_count": 41,
   "metadata": {
    "collapsed": false
   },
   "outputs": [],
   "source": [
    "p0 = np.zeros(25)\n",
    "plsq = leastsq(residuals, p0, args=(zB1, xB1_norm, yB1_norm))\n",
    "pf1 = plsq[0]\n",
    "p0 = np.zeros(25)\n",
    "plsq = leastsq(residuals, p0, args=(zB2, xB2_norm, yB2_norm))\n",
    "pf2 = plsq[0]\n",
    "p0 = np.zeros(25)\n",
    "plsq = leastsq(residuals, p0, args=(zB3, xB3_norm, yB3_norm))\n",
    "pf3 = plsq[0]\n",
    "p0 = np.zeros(25)\n",
    "plsq = leastsq(residuals, p0, args=(zB4, xB4_norm, yB4_norm))\n",
    "pf4 = plsq[0]\n",
    "#z0, z1, z2, z3, z4, z5, z6, z7, z8, z9, z10, z11, z12, z13, z14, z15, z16, z17, z18, z19, z20, z21, z22, z23, z24 = pf1\n",
    "#zernike_fit=zernike(pf1,xB_norm,yB_norm)\n",
    "#residual_fit=zB-zernike_fit\n",
    "#print np.sqrt(np.mean(residual_fit**2))\n",
    "#print np.mean(zernike_fit)\n",
    "#print pf\n",
    "#print plsq[1]\n",
    "#np.savetxt('FEA_PA2Window_P1.csv', pf1, delimiter=',')\n",
    "#np.savetxt('FEA_PA2Window_P2.csv', pf2, delimiter=',')\n",
    "#np.savetxt('FEA_PA2Window_P3.csv', pf3, delimiter=',')\n",
    "#np.savetxt('FEA_PA2Window_P4.csv', pf4, delimiter=',')"
   ]
  },
  {
   "cell_type": "code",
   "execution_count": 42,
   "metadata": {
    "collapsed": false
   },
   "outputs": [],
   "source": [
    "zernikes=np.column_stack((pf1,pf2,pf3,pf4))\n",
    "np.savetxt('FEA_PA2Window_ZerinkeResults.csv', zernikes, delimiter=',')"
   ]
  },
  {
   "cell_type": "code",
   "execution_count": 29,
   "metadata": {
    "collapsed": false
   },
   "outputs": [],
   "source": [
    "from matplotlib import cm\n",
    "import matplotlib.pyplot as plt\n",
    "from mpl_toolkits.mplot3d import Axes3D"
   ]
  },
  {
   "cell_type": "code",
   "execution_count": 43,
   "metadata": {
    "collapsed": false
   },
   "outputs": [],
   "source": [
    "fig=plt.figure()\n",
    "ax = fig.gca(projection='3d')\n",
    "ax.view_init(90,90)\n",
    "ax.set_zlim(0,np.nanmax(zB1))\n",
    "ax.set_xlim(np.nanmin(xB1_norm), np.nanmax(xB1_norm))\n",
    "ax.set_ylim(np.nanmin(yB1_norm), np.nanmax(yB1_norm))\n",
    "ax.set_xlabel('X (mm)')\n",
    "ax.set_ylabel('Y (mm)')\n",
    "ax.set_zlabel('Waves')\n",
    "fig.set_size_inches(12, 8)\n",
    "ax.set_title('Pass 1')\n",
    "ax.plot_trisurf(xB1_norm, yB1_norm, zB1, cmap=cm.jet, linewidth=0.1, vmin=np.nanmin(z_fea), vmax=np.nanmax(z_fea))\n",
    "plt.savefig('FEA_Original_PA2WindowPass1.png', dpi=300)\n",
    "plt.close()\n",
    "fig=plt.figure()\n",
    "ax = fig.gca(projection='3d')\n",
    "ax.view_init(90,90)\n",
    "ax.set_zlim(0,np.nanmax(zB1))\n",
    "ax.set_xlim(np.nanmin(xB1_norm), np.nanmax(xB1_norm))\n",
    "ax.set_ylim(np.nanmin(yB1_norm), np.nanmax(yB1_norm))\n",
    "ax.set_xlabel('X (mm)')\n",
    "ax.set_ylabel('Y (mm)')\n",
    "ax.set_zlabel('Waves')\n",
    "fig.set_size_inches(12, 8)\n",
    "ax.set_title('Pass 2')\n",
    "ax.plot_trisurf(xB2_norm, yB2_norm, zB2, cmap=cm.jet, linewidth=0.1, vmin=np.nanmin(z_fea), vmax=np.nanmax(z_fea))\n",
    "plt.savefig('FEA_Original_PA2WindowPass2.png', dpi=300)\n",
    "plt.close()\n",
    "fig=plt.figure()\n",
    "ax = fig.gca(projection='3d')\n",
    "ax.view_init(90,90)\n",
    "ax.set_zlim(0,np.nanmax(z_fea))\n",
    "ax.set_zlim(0,np.nanmax(zB1))\n",
    "ax.set_xlim(np.nanmin(xB1_norm), np.nanmax(xB1_norm))\n",
    "ax.set_ylim(np.nanmin(yB1_norm), np.nanmax(yB1_norm))\n",
    "ax.set_xlabel('X (mm)')\n",
    "ax.set_ylabel('Y (mm)')\n",
    "ax.set_zlabel('Waves')\n",
    "fig.set_size_inches(12, 8)\n",
    "ax.set_title('Pass 3')\n",
    "ax.plot_trisurf(xB3_norm, yB3_norm, zB3, cmap=cm.jet, linewidth=0.1, vmin=np.nanmin(z_fea), vmax=np.nanmax(z_fea))\n",
    "plt.savefig('FEA_Original_PA2WindowPass3.png', dpi=300)\n",
    "plt.close()\n",
    "\n",
    "fig=plt.figure()\n",
    "ax = fig.gca(projection='3d')\n",
    "ax.view_init(90,90)\n",
    "ax.set_zlim(0,np.nanmax(z_fea))\n",
    "ax.set_zlim(0,np.nanmax(zB1))\n",
    "ax.set_xlim(np.nanmin(xB1_norm), np.nanmax(xB1_norm))\n",
    "ax.set_ylim(np.nanmin(yB1_norm), np.nanmax(yB1_norm))\n",
    "ax.set_xlabel('X (mm)')\n",
    "ax.set_ylabel('Y (mm)')\n",
    "ax.set_zlabel('Waves')\n",
    "fig.set_size_inches(12, 8)\n",
    "ax.set_title('Pass 4')\n",
    "ax.plot_trisurf(xB4_norm, yB4_norm, zB4, cmap=cm.jet, linewidth=0.1, vmin=np.nanmin(z_fea), vmax=np.nanmax(z_fea))\n",
    "plt.savefig('FEA_Original_PA2WindowPass4.png', dpi=300)\n",
    "plt.close()"
   ]
  },
  {
   "cell_type": "code",
   "execution_count": null,
   "metadata": {
    "collapsed": false
   },
   "outputs": [],
   "source": [
    "np.savetxt('FEA_DHammondZernikes.csv', pf, delimiter=',')"
   ]
  },
  {
   "cell_type": "code",
   "execution_count": null,
   "metadata": {
    "collapsed": false
   },
   "outputs": [],
   "source": [
    "print y0.max()"
   ]
  }
 ],
 "metadata": {
  "kernelspec": {
   "display_name": "Python 2",
   "language": "python",
   "name": "python2"
  },
  "language_info": {
   "codemirror_mode": {
    "name": "ipython",
    "version": 2
   },
   "file_extension": ".py",
   "mimetype": "text/x-python",
   "name": "python",
   "nbconvert_exporter": "python",
   "pygments_lexer": "ipython2",
   "version": "2.7.10"
  }
 },
 "nbformat": 4,
 "nbformat_minor": 0
}
